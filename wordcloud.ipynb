{
 "cells": [
  {
   "cell_type": "markdown",
   "id": "df9d1b94-94a0-4076-8185-ac405f3010eb",
   "metadata": {},
   "source": [
    "<h1>Analysis of Word Cloud</h1>"
   ]
  },
  {
   "cell_type": "code",
   "execution_count": 190,
   "id": "58197968-41ea-40f7-b788-fc3f91d3ba16",
   "metadata": {
    "tags": []
   },
   "outputs": [],
   "source": [
    "import requests\n",
    "from bs4 import BeautifulSoup as soup\n",
    "import pandas as pd\n",
    "from nltk.sentiment.vader import SentimentIntensityAnalyzer"
   ]
  },
  {
   "cell_type": "code",
   "execution_count": 191,
   "id": "a9871c00-7e28-49a7-bb59-266d1944b4f4",
   "metadata": {
    "tags": []
   },
   "outputs": [],
   "source": [
    "import matplotlib.pyplot as plt\n",
    "from wordcloud import WordCloud"
   ]
  },
  {
   "cell_type": "code",
   "execution_count": 192,
   "id": "b5b488cb-28fe-4711-aa3a-be2d0d13b85f",
   "metadata": {
    "tags": []
   },
   "outputs": [
    {
     "name": "stdout",
     "output_type": "stream",
     "text": [
      "2023-10-20\n",
      "10-20-23\n"
     ]
    }
   ],
   "source": [
    "from datetime import date\n",
    "\n",
    "today = date.today()\n",
    "\n",
    "d = today.strftime(\"%m-%d-%y\")\n",
    "\n",
    "print(today)\n",
    "print(d)"
   ]
  },
  {
   "cell_type": "code",
   "execution_count": 219,
   "id": "f0d72a10-a4ef-4768-99c0-c310324c46fa",
   "metadata": {
    "tags": []
   },
   "outputs": [
    {
     "data": {
      "text/plain": [
       "'https://edition.cnn.com/2023/10/18/middleeast/arab-allies-snub-biden-gaza-mime-intl/index.html'"
      ]
     },
     "execution_count": 219,
     "metadata": {},
     "output_type": "execute_result"
    }
   ],
   "source": [
    "# target = 'war'\n",
    "url = \"https://edition.cnn.com/2023/10/18/middleeast/arab-allies-snub-biden-gaza-mime-intl/index.html\".format(d)\n",
    "\n",
    "url"
   ]
  },
  {
   "cell_type": "code",
   "execution_count": 220,
   "id": "2b5880f3-8cad-4660-9c46-2eb2430f19a9",
   "metadata": {
    "tags": []
   },
   "outputs": [],
   "source": [
    "request = requests.get(url)"
   ]
  },
  {
   "cell_type": "code",
   "execution_count": 221,
   "id": "55b26b58-2f70-41da-873d-a82d35a93039",
   "metadata": {
    "tags": []
   },
   "outputs": [],
   "source": [
    "# request.text"
   ]
  },
  {
   "cell_type": "code",
   "execution_count": 225,
   "id": "de83d71c-4349-4c43-b87c-98c1ab8a4ac6",
   "metadata": {
    "tags": []
   },
   "outputs": [],
   "source": [
    "x= soup(request.content, 'html.parser')"
   ]
  },
  {
   "cell_type": "code",
   "execution_count": 247,
   "id": "6e59afb6-759b-4c82-93c9-47054b0121d5",
   "metadata": {
    "tags": []
   },
   "outputs": [],
   "source": [
    "# for target in x.findAll(\"h1\"):\n",
    "    # print('line: {}'.format(target.text.strip()))"
   ]
  },
  {
   "cell_type": "code",
   "execution_count": 246,
   "id": "736bb742-945c-4085-aefb-b80a483f2515",
   "metadata": {
    "tags": []
   },
   "outputs": [],
   "source": [
    "# for news in x.findAll('article',{'class':'article'}):\n",
    "    # print('line:{}'.format(news.text.strip()))"
   ]
  },
  {
   "cell_type": "code",
   "execution_count": null,
   "id": "0a9a9124-9094-4feb-993c-6b76bf8d4773",
   "metadata": {},
   "outputs": [],
   "source": [
    "sentiments = []\n",
    "\n",
    "for i in range(0, len(news_html)):\n",
    "    sentiments.append(\n",
    "            {\n",
    "                'ticker': ticker,\n",
    "                'date': news_html[i].find('h5', {'class': 'article__date'}).text, #h5\n",
    "                'title': news_html[i].find('h4', {'class': 'article__title-text'}).text, #h4\n",
    "                'text': news_html[i].find('p', {'class': 'article__text'}).text  # p\n",
    "            }\n",
    "        )"
   ]
  },
  {
   "cell_type": "code",
   "execution_count": 330,
   "id": "8442c4a2-396b-42c3-9866-0a19aab1599a",
   "metadata": {
    "tags": []
   },
   "outputs": [],
   "source": [
    "nbc_url='https://www.nbcnews.com/news/world/live-blog/israel-hamas-war-live-updates-aid-trucks-wait-cross-gaza-another-night-rcna121348'\n",
    "\n",
    "r = requests.get('https://www.nbcnews.com/news/world/live-blog/israel-hamas-war-live-updates-aid-trucks-wait-cross-gaza-another-night-rcna121348')\n",
    "\n",
    "b = soup(r.content,'html')\n",
    "\n",
    "headlines = []\n",
    "\n",
    "for news in b.findAll('h2'):\n",
    "    headlines.append(\n",
    "    {\n",
    "    'Date':format(d),\n",
    "    'headlines' :news.text.strip()\n",
    "        \n",
    "    })\n",
    "    \n",
    "    # print('Headlines: {}'.format(news.text.strip()))"
   ]
  },
  {
   "cell_type": "code",
   "execution_count": 331,
   "id": "714e4e20-9a44-4d46-aa98-6e856bce4204",
   "metadata": {
    "tags": []
   },
   "outputs": [
    {
     "data": {
      "text/plain": [
       "[{'Date': '10-20-23', 'headlines': 'What we know'},\n",
       " {'Date': '10-20-23',\n",
       "  'headlines': 'More than words: Anti-Israel protests get physical across Middle East'},\n",
       " {'Date': '10-20-23',\n",
       "  'headlines': 'Biden: Hamas attacked in part to derail potential Saudi-Israel agreement'},\n",
       " {'Date': '10-20-23',\n",
       "  'headlines': \"Father of freed U.S. hostage says she sounded 'very good' during phone call\"},\n",
       " {'Date': '10-20-23',\n",
       "  'headlines': \"'We cannot close for one month,' Ashdod restaurant owner says\"},\n",
       " {'Date': '10-20-23', 'headlines': 'Death toll for journalists increases'},\n",
       " {'Date': '10-20-23',\n",
       "  'headlines': 'Video shot by Hamas shows release of two American hostages'},\n",
       " {'Date': '10-20-23',\n",
       "  'headlines': 'Former U.S. Rep. Justin Amash says relatives killed in church blast'},\n",
       " {'Date': '10-20-23',\n",
       "  'headlines': 'Biden vowed U.S. support in call with freed hostages'},\n",
       " {'Date': '10-20-23',\n",
       "  'headlines': 'What do we know about released American hostages Judith and Natalie Raanan?'},\n",
       " {'Date': '10-20-23',\n",
       "  'headlines': 'Iran not looking for a war with U.S., intelligence officials say'},\n",
       " {'Date': '10-20-23',\n",
       "  'headlines': \"Friend of freed hostage cheers her release: 'Let's visit and hug each other'\"},\n",
       " {'Date': '10-20-23',\n",
       "  'headlines': 'Israel shares first image of freed hostages'},\n",
       " {'Date': '10-20-23',\n",
       "  'headlines': \"American hostages are being reunited with family 'as we speak,' National Security Council official says\"},\n",
       " {'Date': '10-20-23',\n",
       "  'headlines': 'Blinken says released Americans will meet with U.S. embassy team soon'},\n",
       " {'Date': '10-20-23',\n",
       "  'headlines': \"Netanyahu adviser on hostage release: 'Hamas hasn’t suddenly become humanitarian'\"},\n",
       " {'Date': '10-20-23',\n",
       "  'headlines': '2 Americans released by Hamas transported from Gaza to Israel by Red Cross'},\n",
       " {'Date': '10-20-23',\n",
       "  'headlines': \"Biden: Released Americans 'will soon be reunited with their family'\"},\n",
       " {'Date': '10-20-23',\n",
       "  'headlines': \"Illinois governor says 2 Americans released by Hamas are 'receiving necessary medical treatment'\"},\n",
       " {'Date': '10-20-23',\n",
       "  'headlines': 'Israel confirms 2 hostages released by Hamas are Judith and Natalie Raanan'},\n",
       " {'Date': '10-20-23',\n",
       "  'headlines': \"'They bombed God's house': Eyewitness describes explosion at Greek Orthodox church in Gaza\"},\n",
       " {'Date': '10-20-23', 'headlines': 'Hamas releases two U.S. hostages'},\n",
       " {'Date': '10-20-23',\n",
       "  'headlines': 'As Israel-Hamas war rages, a school blast shows Gazans have nowhere to run'},\n",
       " {'Date': '10-20-23',\n",
       "  'headlines': 'Gaza hospital bombing sparks massive protests outside U.S. embassies'},\n",
       " {'Date': '10-20-23',\n",
       "  'headlines': 'IDF: Most of the Hamas hostages are still alive'},\n",
       " {'Date': '10-20-23',\n",
       "  'headlines': 'Families of kidnapped Israelis welcome the Sabbath together'},\n",
       " {'Date': '10-20-23',\n",
       "  'headlines': 'Israel asks citizens to turn off internet-connected cameras'},\n",
       " {'Date': '10-20-23',\n",
       "  'headlines': 'Grim update: 1,400 Israelis dead, 30 abductees are kids'},\n",
       " {'Date': '10-20-23',\n",
       "  'headlines': 'Eight-year-old Hamas hostage could be blind to terror around him'},\n",
       " {'Date': '10-20-23', 'headlines': 'Photo: Navigating debris in Gaza'},\n",
       " {'Date': '10-20-23',\n",
       "  'headlines': \"Israel aims to end its 'responsibility for life' in Gaza Strip, defense minister says\"},\n",
       " {'Date': '10-20-23',\n",
       "  'headlines': 'Photo: Mother comforts wounded child in Gaza'},\n",
       " {'Date': '10-20-23',\n",
       "  'headlines': \"Analysis: Biden's message welcome but risks confusing some\"},\n",
       " {'Date': '10-20-23', 'headlines': \"Photo:  Soldier's kiss at the border\"},\n",
       " {'Date': '10-20-23',\n",
       "  'headlines': 'IDF denies Orthodox church in Gaza was target of Israeli strike'},\n",
       " {'Date': '10-20-23',\n",
       "  'headlines': 'Aerial view shows flattened Gaza buildings'},\n",
       " {'Date': '10-20-23',\n",
       "  'headlines': 'Gaza aid stuck at Rafah border crossing as Israeli bombardment continues'},\n",
       " {'Date': '10-20-23',\n",
       "  'headlines': 'Analysis: Ground war would be risky for Israel'},\n",
       " {'Date': '10-20-23',\n",
       "  'headlines': \"A Shabbat table with 203 empty seats awaits hostages' return\"},\n",
       " {'Date': '10-20-23',\n",
       "  'headlines': 'U.S. military site in Iraq targeted by rocket attack, defense official confirms'},\n",
       " {'Date': '10-20-23',\n",
       "  'headlines': 'More than 20 of the 200 hostages taken by Hamas are under 18, IDF says'},\n",
       " {'Date': '10-20-23',\n",
       "  'headlines': \"'We hope the Rafah crossing will open today': WHO chief says\"},\n",
       " {'Date': '10-20-23',\n",
       "  'headlines': 'U.N.’ Palestinian refugee agency confirms 2 more employees dead in Gaza'},\n",
       " {'Date': '10-20-23',\n",
       "  'headlines': 'Israel appears on the verge of a ground invasion into Gaza'},\n",
       " {'Date': '10-20-23',\n",
       "  'headlines': 'Israel’s military aware of damage to Gazan Orthodox church as it reviews the incident'},\n",
       " {'Date': '10-20-23',\n",
       "  'headlines': \"U.N. chief on aid trucks at Rafah crossing: 'What we need is to make them move'\"},\n",
       " {'Date': '10-20-23',\n",
       "  'headlines': 'Video shows militants’ missile attacks on Israeli border installations, Lebanon’s Hezbollah says'},\n",
       " {'Date': '10-20-23',\n",
       "  'headlines': \"'Everyday is worse than before,' aid worker worries for pregnant wife\"},\n",
       " {'Date': '10-20-23',\n",
       "  'headlines': \"Gaza aid 'ready to go' but more is needed, says Red Cross\"},\n",
       " {'Date': '10-20-23',\n",
       "  'headlines': \"Israel's foreign minister calls for 'unified and broad front' in liberating Hamas hostages\"},\n",
       " {'Date': '10-20-23',\n",
       "  'headlines': 'Video shows Israeli bombardment of what it says are ‘terrorist targets’ in the Gaza Strip'},\n",
       " {'Date': '10-20-23',\n",
       "  'headlines': '22 killed, 70 injured in bombings of Khan Yunis, Gazan health authorities say'},\n",
       " {'Date': '10-20-23',\n",
       "  'headlines': 'Muslim members of Congress face spikes in death threats'},\n",
       " {'Date': '10-20-23',\n",
       "  'headlines': 'Will humanitarian aid finally enter Gaza? All eyes are on Rafah crossing with Egypt'},\n",
       " {'Date': '10-20-23',\n",
       "  'headlines': 'Chinese envoy arrives in Middle East as Beijing evacuates citizens'},\n",
       " {'Date': '10-20-23',\n",
       "  'headlines': 'College students facing backlash after Israel-Palestine protests'},\n",
       " {'Date': '10-20-23',\n",
       "  'headlines': 'Northern city of Kiryat Shmona to be evacuated, Israel says'},\n",
       " {'Date': '10-20-23',\n",
       "  'headlines': 'U.S. Navy warship shot down 3 missiles heading ‘potentially towards Israel,’ Pentagon says'},\n",
       " {'Date': '10-20-23',\n",
       "  'headlines': 'New signs Israeli ground operation into Gaza could come soon'},\n",
       " {'Date': '10-20-23',\n",
       "  'headlines': \"Catch up with NBC News' coverage of the Israel-Hamas war\"},\n",
       " {'Date': '10-20-23',\n",
       "  'headlines': 'IDF says more than 100 targets hit in Gaza'},\n",
       " {'Date': '10-20-23',\n",
       "  'headlines': 'Former NBC foreign correspondent says members of wife’s family taken hostage'},\n",
       " {'Date': '10-20-23',\n",
       "  'headlines': 'American woman\\xa0who\\xa0survived festival attack pleads for help in Washington'},\n",
       " {'Date': '10-20-23',\n",
       "  'headlines': 'How Arab leaders could receive Biden’s support for Israel'},\n",
       " {'Date': '10-20-23',\n",
       "  'headlines': 'Antisemitic and anti-Muslim hate crimes on the rise in the U.S.'}]"
      ]
     },
     "execution_count": 331,
     "metadata": {},
     "output_type": "execute_result"
    }
   ],
   "source": [
    "headlines"
   ]
  },
  {
   "cell_type": "code",
   "execution_count": 341,
   "id": "dc505b40-d651-4d46-b3b3-c9be4d64b398",
   "metadata": {
    "tags": []
   },
   "outputs": [
    {
     "data": {
      "text/html": [
       "<div>\n",
       "<style scoped>\n",
       "    .dataframe tbody tr th:only-of-type {\n",
       "        vertical-align: middle;\n",
       "    }\n",
       "\n",
       "    .dataframe tbody tr th {\n",
       "        vertical-align: top;\n",
       "    }\n",
       "\n",
       "    .dataframe thead th {\n",
       "        text-align: right;\n",
       "    }\n",
       "</style>\n",
       "<table border=\"1\" class=\"dataframe\">\n",
       "  <thead>\n",
       "    <tr style=\"text-align: right;\">\n",
       "      <th></th>\n",
       "      <th>Date</th>\n",
       "      <th>headlines</th>\n",
       "    </tr>\n",
       "  </thead>\n",
       "  <tbody>\n",
       "    <tr>\n",
       "      <th>0</th>\n",
       "      <td>10-20-23</td>\n",
       "      <td>What we know</td>\n",
       "    </tr>\n",
       "    <tr>\n",
       "      <th>1</th>\n",
       "      <td>10-20-23</td>\n",
       "      <td>More than words: Anti-Israel protests get phys...</td>\n",
       "    </tr>\n",
       "    <tr>\n",
       "      <th>2</th>\n",
       "      <td>10-20-23</td>\n",
       "      <td>Biden: Hamas attacked in part to derail potent...</td>\n",
       "    </tr>\n",
       "    <tr>\n",
       "      <th>3</th>\n",
       "      <td>10-20-23</td>\n",
       "      <td>Father of freed U.S. hostage says she sounded ...</td>\n",
       "    </tr>\n",
       "    <tr>\n",
       "      <th>4</th>\n",
       "      <td>10-20-23</td>\n",
       "      <td>'We cannot close for one month,' Ashdod restau...</td>\n",
       "    </tr>\n",
       "  </tbody>\n",
       "</table>\n",
       "</div>"
      ],
      "text/plain": [
       "       Date                                          headlines\n",
       "0  10-20-23                                       What we know\n",
       "1  10-20-23  More than words: Anti-Israel protests get phys...\n",
       "2  10-20-23  Biden: Hamas attacked in part to derail potent...\n",
       "3  10-20-23  Father of freed U.S. hostage says she sounded ...\n",
       "4  10-20-23  'We cannot close for one month,' Ashdod restau..."
      ]
     },
     "execution_count": 341,
     "metadata": {},
     "output_type": "execute_result"
    }
   ],
   "source": [
    "df = pd.DataFrame(headlines)\n",
    "# df = df.set_index('Date')\n",
    "\n",
    "df.head()"
   ]
  },
  {
   "cell_type": "code",
   "execution_count": 342,
   "id": "19059be0-1270-4252-bbaa-2208a45e9be9",
   "metadata": {
    "tags": []
   },
   "outputs": [
    {
     "data": {
      "text/plain": [
       "0                                          What we know\n",
       "1     More than words: Anti-Israel protests get phys...\n",
       "2     Biden: Hamas attacked in part to derail potent...\n",
       "3     Father of freed U.S. hostage says she sounded ...\n",
       "4     'We cannot close for one month,' Ashdod restau...\n",
       "                            ...                        \n",
       "60           IDF says more than 100 targets hit in Gaza\n",
       "61    Former NBC foreign correspondent says members ...\n",
       "62    American woman who survived festival attack pl...\n",
       "63    How Arab leaders could receive Biden’s support...\n",
       "64    Antisemitic and anti-Muslim hate crimes on the...\n",
       "Name: headlines, Length: 65, dtype: object"
      ]
     },
     "execution_count": 342,
     "metadata": {},
     "output_type": "execute_result"
    }
   ],
   "source": [
    "df.headlines"
   ]
  },
  {
   "cell_type": "code",
   "execution_count": 345,
   "id": "6288dccc-8620-40e9-a61b-cb6578b03379",
   "metadata": {
    "tags": []
   },
   "outputs": [
    {
     "data": {
      "image/png": "[encoded data removed]",
      "text/plain": [
       "<Figure size 800x480 with 1 Axes>"
      ]
     },
     "metadata": {
      "needs_background": "light"
     },
     "output_type": "display_data"
    }
   ],
   "source": [
    "import matplotlib.pyplot as plt\n",
    "plt.figure(figsize=(10,6), dpi=80)\n",
    "\n",
    "text = df.headlines[10]\n",
    "\n",
    "wordcloud = WordCloud().generate(text)\n",
    "\n",
    "plt.imshow(wordcloud, interpolation='bilinear')\n",
    "plt.axis(\"off\")\n",
    "plt.show()"
   ]
  },
  {
   "cell_type": "code",
   "execution_count": 321,
   "id": "a07b1a8f-2911-42b7-8c23-36a09071e7bb",
   "metadata": {
    "tags": []
   },
   "outputs": [
    {
     "name": "stderr",
     "output_type": "stream",
     "text": [
      "[nltk_data] Downloading package vader_lexicon to\n",
      "[nltk_data]     /home/horus/nltk_data...\n",
      "[nltk_data]   Package vader_lexicon is already up-to-date!\n"
     ]
    },
    {
     "data": {
      "text/plain": [
       "True"
      ]
     },
     "execution_count": 321,
     "metadata": {},
     "output_type": "execute_result"
    }
   ],
   "source": [
    "import nltk\n",
    "nltk.downloader.download('vader_lexicon')"
   ]
  },
  {
   "cell_type": "code",
   "execution_count": 323,
   "id": "c7b0a35a-0540-4294-a4ec-ba898e645791",
   "metadata": {
    "tags": []
   },
   "outputs": [
    {
     "name": "stdout",
     "output_type": "stream",
     "text": [
      "'We cannot close for one month,' Ashdod restaurant owner says\n",
      "{'neg': 0.0, 'neu': 1.0, 'pos': 0.0, 'compound': 0.0}\n"
     ]
    },
    {
     "name": "stderr",
     "output_type": "stream",
     "text": [
      "<ipython-input-323-434542f1d71c>:3: FutureWarning: Series.__getitem__ treating keys as positions is deprecated. In a future version, integer keys will always be treated as labels (consistent with DataFrame behavior). To access a value by position, use `ser.iloc[pos]`\n",
      "  print(df['headlines'][4])\n",
      "<ipython-input-323-434542f1d71c>:4: FutureWarning: Series.__getitem__ treating keys as positions is deprecated. In a future version, integer keys will always be treated as labels (consistent with DataFrame behavior). To access a value by position, use `ser.iloc[pos]`\n",
      "  print(analyser.polarity_scores(df['headlines'][4]))\n"
     ]
    }
   ],
   "source": [
    "analyser = SentimentIntensityAnalyzer()\n",
    "\n",
    "print(df['headlines'][4])\n",
    "print(analyser.polarity_scores(df['headlines'][4]))"
   ]
  },
  {
   "cell_type": "code",
   "execution_count": 324,
   "id": "3294f66b-b7f2-407a-989a-2aa45b1fa59d",
   "metadata": {
    "tags": []
   },
   "outputs": [],
   "source": [
    "def calc_sentiment_score(text):\n",
    "    return analyser.polarity_scores(text)[\"compound\"]\n",
    "\n",
    "analyser = SentimentIntensityAnalyzer()\n",
    "df['sentiment_score'] = df['headlines'].apply(calc_sentiment_score)"
   ]
  },
  {
   "cell_type": "code",
   "execution_count": 325,
   "id": "4e9235b8-e389-47cf-b875-1326ffa86dc7",
   "metadata": {
    "tags": []
   },
   "outputs": [
    {
     "data": {
      "text/html": [
       "<div>\n",
       "<style scoped>\n",
       "    .dataframe tbody tr th:only-of-type {\n",
       "        vertical-align: middle;\n",
       "    }\n",
       "\n",
       "    .dataframe tbody tr th {\n",
       "        vertical-align: top;\n",
       "    }\n",
       "\n",
       "    .dataframe thead th {\n",
       "        text-align: right;\n",
       "    }\n",
       "</style>\n",
       "<table border=\"1\" class=\"dataframe\">\n",
       "  <thead>\n",
       "    <tr style=\"text-align: right;\">\n",
       "      <th></th>\n",
       "      <th>headlines</th>\n",
       "      <th>sentiment_score</th>\n",
       "    </tr>\n",
       "    <tr>\n",
       "      <th>Date</th>\n",
       "      <th></th>\n",
       "      <th></th>\n",
       "    </tr>\n",
       "  </thead>\n",
       "  <tbody>\n",
       "    <tr>\n",
       "      <th>10-20-23</th>\n",
       "      <td>What we know</td>\n",
       "      <td>0.0000</td>\n",
       "    </tr>\n",
       "    <tr>\n",
       "      <th>10-20-23</th>\n",
       "      <td>More than words: Anti-Israel protests get phys...</td>\n",
       "      <td>-0.2263</td>\n",
       "    </tr>\n",
       "    <tr>\n",
       "      <th>10-20-23</th>\n",
       "      <td>Biden: Hamas attacked in part to derail potent...</td>\n",
       "      <td>-0.2500</td>\n",
       "    </tr>\n",
       "    <tr>\n",
       "      <th>10-20-23</th>\n",
       "      <td>Father of freed U.S. hostage says she sounded ...</td>\n",
       "      <td>0.7089</td>\n",
       "    </tr>\n",
       "    <tr>\n",
       "      <th>10-20-23</th>\n",
       "      <td>'We cannot close for one month,' Ashdod restau...</td>\n",
       "      <td>0.0000</td>\n",
       "    </tr>\n",
       "    <tr>\n",
       "      <th>...</th>\n",
       "      <td>...</td>\n",
       "      <td>...</td>\n",
       "    </tr>\n",
       "    <tr>\n",
       "      <th>10-20-23</th>\n",
       "      <td>IDF says more than 100 targets hit in Gaza</td>\n",
       "      <td>0.0000</td>\n",
       "    </tr>\n",
       "    <tr>\n",
       "      <th>10-20-23</th>\n",
       "      <td>Former NBC foreign correspondent says members ...</td>\n",
       "      <td>0.0000</td>\n",
       "    </tr>\n",
       "    <tr>\n",
       "      <th>10-20-23</th>\n",
       "      <td>American woman who survived festival attack pl...</td>\n",
       "      <td>0.7269</td>\n",
       "    </tr>\n",
       "    <tr>\n",
       "      <th>10-20-23</th>\n",
       "      <td>How Arab leaders could receive Biden’s support...</td>\n",
       "      <td>0.4019</td>\n",
       "    </tr>\n",
       "    <tr>\n",
       "      <th>10-20-23</th>\n",
       "      <td>Antisemitic and anti-Muslim hate crimes on the...</td>\n",
       "      <td>-0.5719</td>\n",
       "    </tr>\n",
       "  </tbody>\n",
       "</table>\n",
       "<p>65 rows × 2 columns</p>\n",
       "</div>"
      ],
      "text/plain": [
       "                                                  headlines  sentiment_score\n",
       "Date                                                                        \n",
       "10-20-23                                       What we know           0.0000\n",
       "10-20-23  More than words: Anti-Israel protests get phys...          -0.2263\n",
       "10-20-23  Biden: Hamas attacked in part to derail potent...          -0.2500\n",
       "10-20-23  Father of freed U.S. hostage says she sounded ...           0.7089\n",
       "10-20-23  'We cannot close for one month,' Ashdod restau...           0.0000\n",
       "...                                                     ...              ...\n",
       "10-20-23         IDF says more than 100 targets hit in Gaza           0.0000\n",
       "10-20-23  Former NBC foreign correspondent says members ...           0.0000\n",
       "10-20-23  American woman who survived festival attack pl...           0.7269\n",
       "10-20-23  How Arab leaders could receive Biden’s support...           0.4019\n",
       "10-20-23  Antisemitic and anti-Muslim hate crimes on the...          -0.5719\n",
       "\n",
       "[65 rows x 2 columns]"
      ]
     },
     "execution_count": 325,
     "metadata": {},
     "output_type": "execute_result"
    }
   ],
   "source": [
    "df"
   ]
  },
  {
   "cell_type": "code",
   "execution_count": 326,
   "id": "2043248e-e930-4444-b7ae-4200c3b5d404",
   "metadata": {
    "tags": []
   },
   "outputs": [
    {
     "data": {
      "text/plain": [
       "<Axes: xlabel='Date'>"
      ]
     },
     "execution_count": 326,
     "metadata": {},
     "output_type": "execute_result"
    },
    {
     "data": {
      "image/png": "[encoded data removed]",
      "text/plain": [
       "<Figure size 720x360 with 1 Axes>"
      ]
     },
     "metadata": {
      "needs_background": "light"
     },
     "output_type": "display_data"
    }
   ],
   "source": [
    "df['sentiment_score'].plot(kind='bar', figsize=(10,5))"
   ]
  },
  {
   "cell_type": "code",
   "execution_count": 292,
   "id": "b8bdc1fd-41b0-46b6-a2ed-95092f023162",
   "metadata": {
    "tags": []
   },
   "outputs": [],
   "source": [
    "# news = []\n",
    "\n",
    "# for i in range(0, len(news)):\n",
    "#     sentiments.append()"
   ]
  },
  {
   "cell_type": "code",
   "execution_count": 228,
   "id": "0802b841-882e-4181-b005-244ee4f16346",
   "metadata": {
    "tags": []
   },
   "outputs": [],
   "source": [
    "# print(soup.prettify())"
   ]
  },
  {
   "cell_type": "code",
   "execution_count": 95,
   "id": "cdca8a51-cd7a-44c2-aa67-5003a3922b2a",
   "metadata": {
    "tags": []
   },
   "outputs": [],
   "source": [
    "# soup.find_all()"
   ]
  },
  {
   "cell_type": "code",
   "execution_count": null,
   "id": "6bec264e-dedb-4c9d-b649-cc7c9e3f9252",
   "metadata": {},
   "outputs": [],
   "source": [
    "wc = WordCloud(max_font_size=50, \n",
    "               max_words=100, \n",
    "               background_color=\"white\").generate(phrase)"
   ]
  },
  {
   "cell_type": "code",
   "execution_count": null,
   "id": "c85f4fbd-94bb-472a-bd9c-ff6f220829c8",
   "metadata": {},
   "outputs": [],
   "source": [
    "wc"
   ]
  },
  {
   "cell_type": "code",
   "execution_count": null,
   "id": "2da88ed6-1824-4609-844a-3d6cbb01c1d4",
   "metadata": {},
   "outputs": [],
   "source": [
    "plt.figure()\n",
    "plt.imshow(wc,interpolation='bilinear')\n",
    "plt.axis('off')\n",
    "plt.show()"
   ]
  },
  {
   "cell_type": "code",
   "execution_count": null,
   "id": "a99b0d3a-987e-4187-96f0-92de1d9a4f1e",
   "metadata": {},
   "outputs": [],
   "source": []
  }
 ],
 "metadata": {
  "kernelspec": {
   "display_name": "Python 3",
   "language": "python",
   "name": "python3"
  },
  "language_info": {
   "codemirror_mode": {
    "name": "ipython",
    "version": 3
   },
   "file_extension": ".py",
   "mimetype": "text/x-python",
   "name": "python",
   "nbconvert_exporter": "python",
   "pygments_lexer": "ipython3",
   "version": "3.9.13"
  }
 },
 "nbformat": 4,
 "nbformat_minor": 5
}
